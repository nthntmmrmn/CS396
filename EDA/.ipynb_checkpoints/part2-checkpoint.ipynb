{
 "cells": [
  {
   "cell_type": "markdown",
   "metadata": {},
   "source": [
    "# Data of Interest\n",
    "\n",
    "Our central focus will be on review.json. However, we will also make heavy use of the user, tip, and business data sets. Currently, we do not have plans to use the photo or check-in sets, but check-in may be integrated if we think there are possible insights to be gained from its use."
   ]
  },
  {
   "cell_type": "markdown",
   "metadata": {},
   "source": [
    "# Data Preprocessing\n",
    "\n",
    "Our project requires no specific data cleaning to be done because due to the nature of the questions we are analyzing, there is no specific set of mistakes that we would be able to check for and fix (e.g., if someone selects the wrong business, giving us the wrong business_id).\n",
    "\n",
    "In terms of reorganization, this would simply take the form of loading the data into dataframes that include just the data we want to analyze for each problem we are considering. Because of the large quantity of reviews in the dataset, we will consider a random sample of 10% of businesses."
   ]
  },
  {
   "cell_type": "markdown",
   "metadata": {},
   "source": [
    "### Getting the 10% random sample of businesses:"
   ]
  },
  {
   "cell_type": "code",
   "execution_count": 1,
   "metadata": {},
   "outputs": [],
   "source": [
    "# import pandas as pd\n",
    "# import numpy as np\n",
    "\n",
    "# path = \"../yelp_dataset/business.json\"\n",
    "\n",
    "# df = pd.read_json(path, lines=True)\n",
    "\n",
    "# df_sample = df.sample(19261)\n",
    "\n",
    "# df_sample.to_json(r'business_sample.json',orient='records')"
   ]
  },
  {
   "cell_type": "markdown",
   "metadata": {},
   "source": [
    "### Getting all reviews for our random sample of businesses:"
   ]
  },
  {
   "cell_type": "code",
   "execution_count": 20,
   "metadata": {},
   "outputs": [],
   "source": [
    "# import pandas as pd\n",
    "# import numpy as np\n",
    "# import json\n",
    "\n",
    "# df = pd.read_json(\"business_sample.json\")\n",
    "# all_ids = df['business_id'].to_numpy()\n",
    "\n",
    "# business_reviews = []\n",
    "# for l in open(\"../yelp_dataset/review.json\").readlines():\n",
    "#     data = json.loads(l)\n",
    "#     if data[\"business_id\"] in all_ids:\n",
    "#         business_reviews.append(data)\n",
    "            \n",
    "# df_reviews = pd.DataFrame.from_records(business_reviews)\n",
    "\n",
    "# df_reviews.to_json(r'reviews_sample.json',orient='records')"
   ]
  },
  {
   "cell_type": "markdown",
   "metadata": {},
   "source": [
    "### Are the distrbutions of stars for closed and open businesses the same?\n",
    "\n",
    "We will use a two-sample t-test to analyze whether the distributions of stars for closed and open business are the same."
   ]
  },
  {
   "cell_type": "code",
   "execution_count": 6,
   "metadata": {},
   "outputs": [
    {
     "name": "stdout",
     "output_type": "stream",
     "text": [
      "t-stat: 0.11789647564234917 \t p-value: 8.70124840960327e-35\n"
     ]
    },
    {
     "data": {
      "image/png": "[encoded data removed]",
      "text/plain": [
       "<Figure size 360x720 with 1 Axes>"
      ]
     },
     "metadata": {
      "needs_background": "light"
     },
     "output_type": "display_data"
    }
   ],
   "source": [
    "import pandas as pd\n",
    "import numpy as np\n",
    "import json\n",
    "import scipy.stats as stats\n",
    "import matplotlib.pyplot as plt\n",
    "\n",
    "df_business = pd.read_json(\"business_sample.json\")\n",
    "\n",
    "open_stars = df_business[df_business['is_open']==1]['stars'].to_numpy()\n",
    "closed_stars = df_business[df_business['is_open']==0]['stars'].to_numpy()\n",
    "\n",
    "t_stat, p_value = stats.ks_2samp(open_stars, closed_stars)\n",
    "print(f't-stat: {t_stat} \\t p-value: {p_value}')\n",
    "\n",
    "data = [np.reshape(open_stars, (-1,1)), np.reshape(closed_stars, (-1,1))]\n",
    "plt.figure(figsize=(5,10))\n",
    "plt.boxplot(data)\n",
    "plt.xticks([1,2],['Open','Closed'])\n",
    "plt.ylabel('Stars')\n",
    "plt.title('Distribution of Stars for Open and Closed Businesses')\n",
    "plt.show()\n"
   ]
  },
  {
   "cell_type": "markdown",
   "metadata": {},
   "source": [
    "### Insights\n",
    "\n",
    "The p-value is << 0.05, so we reject the null hypothesis (that the distribution of stars is the same for both open and closed businesses) and have strong evidence that the distributions are different. The boxplot visually confirms this."
   ]
  },
  {
   "cell_type": "markdown",
   "metadata": {},
   "source": [
    "### Is there a difference between review length for closed and open between?\n",
    "\n",
    "We will use a two-sample t-test to analyze whether the distributions of review lengths for closed and open business are the same."
   ]
  },
  {
   "cell_type": "code",
   "execution_count": 8,
   "metadata": {},
   "outputs": [
    {
     "name": "stdout",
     "output_type": "stream",
     "text": [
      "t-stat: 0.06626003682356818 \t p-value: 2.776776516482881e-304\n",
      "\n",
      "Open length mean: 591.964995085665 \t Closed length mean: 667.7090485637885\n",
      "Open length median: 417.0 \t Closed length median: 482.0\n"
     ]
    },
    {
     "data": {
      "image/png": "[encoded data removed]",
      "text/plain": [
       "<Figure size 360x720 with 1 Axes>"
      ]
     },
     "metadata": {
      "needs_background": "light"
     },
     "output_type": "display_data"
    }
   ],
   "source": [
    "import pandas as pd\n",
    "import numpy as np\n",
    "import json\n",
    "import scipy.stats as stats\n",
    "import matplotlib.pyplot as plt\n",
    "\n",
    "df_review = pd.read_json('reviews_sample.json')\n",
    "df_business = pd.read_json(\"business_sample.json\")\n",
    "\n",
    "df_join = df_review[['business_id', 'text']].join(df_business[['business_id', 'is_open']].set_index('business_id'), on='business_id')\n",
    "\n",
    "open_text = df_join[df_join['is_open']==1]['text']\n",
    "closed_text = df_join[df_join['is_open']==0]['text']\n",
    "\n",
    "text_length = np.vectorize(len)\n",
    "open_lengths = text_length(open_text.astype(str))\n",
    "closed_lengths = text_length(closed_text.astype(str))\n",
    "\n",
    "t_stat, p_value = stats.ks_2samp(open_lengths, closed_lengths)\n",
    "print(f't-stat: {t_stat} \\t p-value: {p_value}\\n')\n",
    "print(f'Open length mean: {np.mean(open_lengths)} \\t Closed length mean: {np.mean(closed_lengths)}')\n",
    "print(f'Open length median: {np.median(open_lengths)} \\t Closed length median: {np.median(closed_lengths)}')\n",
    "\n",
    "data = [np.reshape(open_lengths, (-1,1)), np.reshape(closed_lengths, (-1,1))]\n",
    "\n",
    "plt.figure(figsize=(5,10))\n",
    "plt.boxplot(data)\n",
    "plt.xticks([1,2],['Open','Closed'])\n",
    "plt.ylabel('Review length')\n",
    "plt.title('Distribution of Review Length for Open and Closed Businesses')\n",
    "plt.show()"
   ]
  },
  {
   "cell_type": "markdown",
   "metadata": {},
   "source": [
    "### Insights\n",
    "\n",
    "The p-value is << 0.05, so we reject the null hypothesis (that the distribution of review lengths is the same for both open and closed businesses) and have strong evidence that the distributions are different. The boxplot visually confirms this. From examining the mean length of each, it appears that closed reviews are typically longer."
   ]
  },
  {
   "cell_type": "markdown",
   "metadata": {},
   "source": [
    "### Number of reviews for open versus closed businesses\n",
    "\n",
    "We will use a two-sample t-test to analyze whether the distributions of the number of reviews for closed and open business are the same."
   ]
  },
  {
   "cell_type": "code",
   "execution_count": 16,
   "metadata": {},
   "outputs": [
    {
     "name": "stdout",
     "output_type": "stream",
     "text": [
      "t-stat: 0.05053950965687193 \t p-value: 9.696907760450336e-07\n",
      "Open reviews mean: 35.82823484704541 \t Closed reviews mean: 26.711981566820278\n",
      "Open reviews median: 10.0 \t Closed reviews median: 8.0\n"
     ]
    },
    {
     "data": {
      "image/png": "[encoded data removed]",
      "text/plain": [
       "<Figure size 360x720 with 1 Axes>"
      ]
     },
     "metadata": {
      "needs_background": "light"
     },
     "output_type": "display_data"
    }
   ],
   "source": [
    "import pandas as pd\n",
    "import numpy as np\n",
    "import json\n",
    "import scipy.stats as stats\n",
    "import matplotlib.pyplot as plt\n",
    "\n",
    "df_review = pd.read_json('reviews_sample.json')\n",
    "df_business = pd.read_json(\"business_sample.json\")\n",
    "\n",
    "df_join = df_review[['business_id', 'text']].join(df_business[['business_id', 'is_open']].set_index('business_id'), on='business_id')\n",
    "\n",
    "open_reviews = df_join[df_join['is_open']==1].groupby('business_id')['business_id'].count().to_numpy()\n",
    "closed_reviews = df_join[df_join['is_open']==0].groupby('business_id')['business_id'].count().to_numpy()\n",
    "\n",
    "t_stat, p_value = stats.ks_2samp(open_reviews, closed_reviews)\n",
    "print(f't-stat: {t_stat} \\t p-value: {p_value}')\n",
    "\n",
    "print(f'Open reviews mean: {np.mean(open_reviews)} \\t Closed reviews mean: {np.mean(closed_reviews)}')\n",
    "print(f'Open reviews median: {np.median(open_reviews)} \\t Closed reviews median: {np.median(closed_reviews)}')\n",
    "\n",
    "data = [np.reshape(open_reviews, (-1,1)), np.reshape(closed_reviews, (-1,1))]\n",
    "\n",
    "plt.figure(figsize=(5,10))\n",
    "plt.boxplot(data)\n",
    "plt.xticks([1,2],['Open','Closed'])\n",
    "plt.ylabel('Number of reviews')\n",
    "plt.title('Distribution of Number of Reviews for Open and Closed Businesses')\n",
    "plt.show()"
   ]
  },
  {
   "cell_type": "markdown",
   "metadata": {},
   "source": [
    "### Insights\n",
    "\n",
    "Based on the above test, there is a difference in the distribution of the number of reviews for each open and closed business. However, this difference (closed have less reviews on average) is likely due to the fact that the business is closed, and therefore has had less time to accumulate reviews than still-open businesses. "
   ]
  },
  {
   "cell_type": "markdown",
   "metadata": {},
   "source": [
    "### Proportion of each number of stars for open versus closed businesses\n",
    "\n",
    "We will compare the proportion of each number of stars for open versus closed businsses and plot them."
   ]
  },
  {
   "cell_type": "code",
   "execution_count": 28,
   "metadata": {},
   "outputs": [
    {
     "name": "stdout",
     "output_type": "stream",
     "text": [
      "Proportions:\n",
      "\n",
      "1 Star: \t Open: 2.634745709037938 \t Closed 2.1025345622119813 \t Diff: 0.5322111468259565 \n",
      "\n",
      "1.5 Stars: \t Open: 2.685413895750206 \t Closed 2.4769585253456223 \t Diff: 0.20845537040458373\n",
      "\n",
      "2 Stars: \t Open: 6.168851732218633 \t Closed 6.0195852534562215 \t Diff: 0.14926647876241184\n",
      "\n",
      "2.5 Stars: \t Open: 9.569953765279624 \t Closed 10.800691244239632 \t Diff: -1.2307374789600072\n",
      "\n",
      "3 Stars: \t Open: 12.673380201406042 \t Closed 17.252304147465438 \t Diff: -4.578923946059396\n",
      "\n",
      "3.5 Stars: \t Open: 17.328519855595665 \t Closed 21.687788018433178 \t Diff: -4.3592681628375125\n",
      "\n",
      "4 Stars: \t Open: 18.34188358984103 \t Closed 20.852534562211982 \t Diff: -2.5106509723709536\n",
      "\n",
      "4.5 Star: \t Open: 14.871112800050668 \t Closed 10.800691244239632 \t Diff: 4.070421555811036\n",
      "\n",
      "5 Stars: \t Open: 15.72613845082019 \t Closed 8.006912442396313 \t Diff: 7.7192260084238775\n",
      "\n"
     ]
    },
    {
     "data": {
      "image/png": "[encoded data removed]",
      "text/plain": [
       "<Figure size 432x288 with 1 Axes>"
      ]
     },
     "metadata": {
      "needs_background": "light"
     },
     "output_type": "display_data"
    }
   ],
   "source": [
    "import pandas as pd\n",
    "import numpy as np\n",
    "import json\n",
    "import scipy.stats as stats\n",
    "import matplotlib.pyplot as plt\n",
    "\n",
    "df_business = pd.read_json(\"business_sample.json\")\n",
    "\n",
    "open_stars = df_business[df_business['is_open']==1]['stars'].to_numpy()\n",
    "closed_stars = df_business[df_business['is_open']==0]['stars'].to_numpy()\n",
    "\n",
    "unique_open, counts_open = np.unique(open_stars, return_counts=True)\n",
    "unique_closed, counts_closed = np.unique(closed_stars, return_counts=True)\n",
    "\n",
    "total_open = np.sum(counts_open)\n",
    "total_closed = np.sum(counts_closed)\n",
    "\n",
    "print('Proportions:\\n')\n",
    "print(f'1 Star: \\t Open: {counts_open[0]/total_open*100} \\t Closed {counts_closed[0]/total_closed*100} \\t Diff: {counts_open[0]/total_open*100-counts_closed[0]/total_closed*100} \\n')\n",
    "print(f'1.5 Stars: \\t Open: {counts_open[1]/total_open*100} \\t Closed {counts_closed[1]/total_closed*100} \\t Diff: {counts_open[1]/total_open*100-counts_closed[1]/total_closed*100}\\n')\n",
    "print(f'2 Stars: \\t Open: {counts_open[2]/total_open*100} \\t Closed {counts_closed[2]/total_closed*100} \\t Diff: {counts_open[2]/total_open*100-counts_closed[2]/total_closed*100}\\n')\n",
    "print(f'2.5 Stars: \\t Open: {counts_open[3]/total_open*100} \\t Closed {counts_closed[3]/total_closed*100} \\t Diff: {counts_open[3]/total_open*100-counts_closed[3]/total_closed*100}\\n') \n",
    "print(f'3 Stars: \\t Open: {counts_open[4]/total_open*100} \\t Closed {counts_closed[4]/total_closed*100} \\t Diff: {counts_open[4]/total_open*100-counts_closed[4]/total_closed*100}\\n')\n",
    "print(f'3.5 Stars: \\t Open: {counts_open[5]/total_open*100} \\t Closed {counts_closed[5]/total_closed*100} \\t Diff: {counts_open[5]/total_open*100-counts_closed[5]/total_closed*100}\\n')\n",
    "print(f'4 Stars: \\t Open: {counts_open[6]/total_open*100} \\t Closed {counts_closed[6]/total_closed*100} \\t Diff: {counts_open[6]/total_open*100-counts_closed[6]/total_closed*100}\\n')\n",
    "print(f'4.5 Star: \\t Open: {counts_open[7]/total_open*100} \\t Closed {counts_closed[7]/total_closed*100} \\t Diff: {counts_open[7]/total_open*100-counts_closed[7]/total_closed*100}\\n')\n",
    "print(f'5 Stars: \\t Open: {counts_open[8]/total_open*100} \\t Closed {counts_closed[8]/total_closed*100} \\t Diff: {counts_open[8]/total_open*100-counts_closed[8]/total_closed*100}\\n')\n",
    "\n",
    "diff = []\n",
    "for i in range(0,len(counts_open)):\n",
    "    diff.append(counts_open[i]/total_open*100-counts_closed[i]/total_closed*100)\n",
    "\n",
    "plt.figure()\n",
    "plt.scatter(unique_open, diff)\n",
    "plt.axhline(y=0, color='r', linestyle='-')\n",
    "plt.ylabel('Open Minus Closed Proportion')\n",
    "plt.xlabel('Stars')\n",
    "plt.title('Difference Between Open and Closed Proportion of Stars')\n",
    "plt.show()\n"
   ]
  },
  {
   "cell_type": "markdown",
   "metadata": {},
   "source": [
    "### Insights\n",
    "\n",
    "Both 4.5 and 5 star reviews are very significant with respect to whether a business is open. Both open and closed businsses have a similar proportion of 1 through 2 star reviews, and closed businsses have a slightly larger proportion of 2.5 through 4 star reviews, but open businesses have a much larger proportion of 4.5 to 5 star reviews than closed businesses. This is visually shown in the plot."
   ]
  }
 ],
 "metadata": {
  "kernelspec": {
   "display_name": "Python 3",
   "language": "python",
   "name": "python3"
  },
  "language_info": {
   "codemirror_mode": {
    "name": "ipython",
    "version": 3
   },
   "file_extension": ".py",
   "mimetype": "text/x-python",
   "name": "python",
   "nbconvert_exporter": "python",
   "pygments_lexer": "ipython3",
   "version": "3.7.4"
  }
 },
 "nbformat": 4,
 "nbformat_minor": 2
}
