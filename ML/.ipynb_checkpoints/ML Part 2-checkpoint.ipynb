{
 "cells": [
  {
   "cell_type": "code",
   "execution_count": 8,
   "metadata": {},
   "outputs": [],
   "source": [
    "import warnings\n",
    "import pandas as pd\n",
    "import numpy as np\n",
    "import json\n",
    "from textblob import TextBlob\n",
    "from sklearn.svm import SVC\n",
    "from sklearn.ensemble import GradientBoostingClassifier\n",
    "from sklearn.neighbors import KNeighborsClassifier\n",
    "from sklearn.tree import DecisionTreeClassifier\n",
    "from sklearn.model_selection import KFold\n",
    "from sklearn.metrics import roc_auc_score, accuracy_score, r2_score\n",
    "import matplotlib.pyplot as plt\n",
    "\n",
    "\n",
    "warnings.simplefilter('ignore')"
   ]
  },
  {
   "cell_type": "markdown",
   "metadata": {},
   "source": [
    "## Collecting features and targets"
   ]
  },
  {
   "cell_type": "code",
   "execution_count": 3,
   "metadata": {},
   "outputs": [],
   "source": [
    "df_review = pd.read_json('../../Samples/reviews_sample.json')\n",
    "df_business = pd.read_json(\"../../Samples/business_sample.json\")\n",
    "df_review = df_review.rename(columns={'stars': 'rating'})\n",
    "\n",
    "df_join = df_review[['business_id', 'text', 'rating']].join(df_business[['business_id', 'is_open', 'stars']].set_index('business_id'), on='business_id')\n",
    "\n",
    "text_length = np.vectorize(len)\n",
    "\n",
    "def my_aggregator(data):\n",
    "    reviews = data['text']\n",
    "    mean_review = np.mean(text_length(reviews))\n",
    "    mean_polarity = np.mean([TextBlob(x).sentiment.polarity for x in reviews])\n",
    "    stars = data.iloc[0]['stars']\n",
    "    is_open = data.iloc[0]['is_open']\n",
    "    \n",
    "    r = np.zeros(5)\n",
    "    rating, rating_counts = np.unique(data['rating'].to_numpy(), return_counts=True)\n",
    "    total = sum(rating_counts)\n",
    "    ratings = rating_counts.astype(np.float64) / total\n",
    "    for i, rate in enumerate(rating):\n",
    "        r[rate-1] = ratings[i]\n",
    "    \n",
    "    return np.concatenate((r, np.array([mean_review, mean_polarity, stars, is_open])))\n",
    "\n",
    "\n",
    "h = df_join.groupby('business_id').apply(my_aggregator).to_numpy()\n",
    "h = np.stack(h)\n",
    "\n",
    "features = h[:,:8]\n",
    "targets = h[:,8]"
   ]
  },
  {
   "cell_type": "markdown",
   "metadata": {},
   "source": [
    "## Gradient Boosting Tree Classification"
   ]
  },
  {
   "cell_type": "code",
   "execution_count": 12,
   "metadata": {},
   "outputs": [
    {
     "name": "stdout",
     "output_type": "stream",
     "text": [
      "GBTree Classification Accuracy Score: 0.8197394028038192\n"
     ]
    }
   ],
   "source": [
    "kf = KFold(n_splits=5, shuffle=True)\n",
    "\n",
    "accuracy_GBC = []\n",
    "for train_index, test_index in kf.split(features):\n",
    "    X_train, X_test = features[train_index], features[test_index]\n",
    "    y_train, y_test = targets[train_index], targets[test_index]\n",
    "    GBC = GradientBoostingClassifier(learning_rate = 0.0001).fit(X_train, y_train)\n",
    "    y_pred = GBC.predict(X_test)\n",
    "    accuracy_GBC.append(accuracy_score(y_test, y_pred))\n",
    "\n",
    "print(f'GBTree Classification Accuracy Score: {np.mean(accuracy_GBC)}')"
   ]
  },
  {
   "cell_type": "markdown",
   "metadata": {},
   "source": [
    "## KNN Classifier"
   ]
  },
  {
   "cell_type": "code",
   "execution_count": 11,
   "metadata": {},
   "outputs": [
    {
     "name": "stdout",
     "output_type": "stream",
     "text": [
      "KNN Classification Accuracy Score: 0.8197395779852465\n"
     ]
    }
   ],
   "source": [
    "kf = KFold(n_splits=5)\n",
    "\n",
    "accuracy_score_nb = []\n",
    "for train_index, test_index in kf.split(features):\n",
    "    X_train, X_test = features[train_index], features[test_index]\n",
    "    y_train, y_test = targets[train_index], targets[test_index]\n",
    "    nb = KNeighborsClassifier(n_neighbors = 100).fit(X_train, y_train)\n",
    "    y_pred = nb.predict(X_test)\n",
    "    accuracy_score_nb.append(accuracy_score(y_test, y_pred))\n",
    "\n",
    "print(f'KNN Classification Accuracy Score: {np.mean(accuracy_score_nb)}')"
   ]
  },
  {
   "cell_type": "markdown",
   "metadata": {},
   "source": [
    "## Decision Tree Classifier"
   ]
  },
  {
   "cell_type": "code",
   "execution_count": 26,
   "metadata": {},
   "outputs": [
    {
     "name": "stdout",
     "output_type": "stream",
     "text": [
      "DTree Classification Accuracy Score: 0.7203676830778033\n"
     ]
    }
   ],
   "source": [
    "kf = KFold(n_splits=3, shuffle=True)\n",
    "\n",
    "accuracy_DT = []\n",
    "for train_index, test_index in kf.split(features):\n",
    "    X_train, X_test = features[train_index], features[test_index]\n",
    "    y_train, y_test = targets[train_index], targets[test_index]\n",
    "    DT = DecisionTreeClassifier().fit(X_train, y_train)\n",
    "    y_pred = DT.predict(X_test)\n",
    "    accuracy_DT.append(accuracy_score(y_pred, y_test))\n",
    "\n",
    "print(f'DTree Classification Accuracy Score: {np.mean(accuracy_DT)}')"
   ]
  },
  {
   "cell_type": "markdown",
   "metadata": {},
   "source": [
    "## SVC Classifier"
   ]
  },
  {
   "cell_type": "code",
   "execution_count": 36,
   "metadata": {},
   "outputs": [
    {
     "name": "stdout",
     "output_type": "stream",
     "text": [
      "SVC Classification Accuracy Score: 0.8197396184117297\n"
     ]
    }
   ],
   "source": [
    "kf = KFold(n_splits=5, shuffle=True)\n",
    "\n",
    "accuracy_svm = []\n",
    "for train_index, test_index in kf.split(feats):\n",
    "    X_train, X_test = feats[train_index], feats[test_index]\n",
    "    y_train, y_test = targets[train_index], targets[test_index]\n",
    "    svm = SVC(gamma='auto').fit(X_train, y_train)\n",
    "    y_pred = svm.predict(X_test)\n",
    "    accuracy_svm.append(accuracy_score(y_pred, y_test))\n",
    "\n",
    "print(f'SVC Classification Accuracy Score: {np.mean(accuracy_svm)}')"
   ]
  }
 ],
 "metadata": {
  "kernelspec": {
   "display_name": "Python 3",
   "language": "python",
   "name": "python3"
  },
  "language_info": {
   "codemirror_mode": {
    "name": "ipython",
    "version": 3
   },
   "file_extension": ".py",
   "mimetype": "text/x-python",
   "name": "python",
   "nbconvert_exporter": "python",
   "pygments_lexer": "ipython3",
   "version": "3.7.4"
  }
 },
 "nbformat": 4,
 "nbformat_minor": 2
}
