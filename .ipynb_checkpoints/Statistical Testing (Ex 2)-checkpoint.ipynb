{
 "cells": [
  {
   "cell_type": "markdown",
   "metadata": {},
   "source": [
    "# Q1"
   ]
  },
  {
   "cell_type": "code",
   "execution_count": 6,
   "metadata": {},
   "outputs": [
    {
     "data": {
      "image/png": "[encoded data removed]",
      "text/plain": [
       "<Figure size 720x720 with 1 Axes>"
      ]
     },
     "metadata": {
      "needs_background": "light"
     },
     "output_type": "display_data"
    },
    {
     "name": "stdout",
     "output_type": "stream",
     "text": [
      "Alpha = 1.7301500182303275\n"
     ]
    }
   ],
   "source": [
    "import pandas as pd\n",
    "import numpy as np\n",
    "import json, math, powerlaw\n",
    "import matplotlib.pyplot as plt\n",
    "\n",
    "\n",
    "path = \"../yelp_dataset\"\n",
    "\n",
    "df_business = pd.read_json(path+'/business.json', lines=True)\n",
    "review_counts = df_business['review_count'].value_counts(normalize=True,\n",
    "                                                        bins=np.logspace(np.log10(df_business['review_count'].min()),\n",
    "                                                                         np.log10(df_business['review_count'].max()), \n",
    "                                                                         30))\n",
    "\n",
    "index = review_counts.index.to_numpy()\n",
    "bin_centers = [x.mid for x in index]\n",
    "\n",
    "plt.figure(figsize=(10,10))\n",
    "plt.plot(bin_centers, review_counts.to_numpy())\n",
    "plt.gca().set_xscale('log')\n",
    "plt.gca().set_yscale('log')\n",
    "plt.show()\n",
    "\n",
    "all_review_counts = df_business['review_count'].to_numpy()\n",
    "# results = powerlaw.Fit(all_review_counts)\n",
    "# print(f'Alpha = {results.power_law.alpha}')\n",
    "\n",
    "n = len(all_review_counts)\n",
    "x_min = index[0].left\n",
    "sum1 = 0\n",
    "for i in range(0, len(all_review_counts)):\n",
    "    sum1 += math.log(all_review_counts[i] / x_min)\n",
    "alpha = 1 + (n* (1/sum1))\n",
    "print(f'Alpha = {alpha}')\n"
   ]
  },
  {
   "cell_type": "markdown",
   "metadata": {},
   "source": [
    "# Q2"
   ]
  },
  {
   "cell_type": "code",
   "execution_count": 91,
   "metadata": {},
   "outputs": [
    {
     "name": "stdout",
     "output_type": "stream",
     "text": [
      "IL:\n",
      " Mean: 21.2324016563147\t STD: 43.48124135438855\n",
      "SC:\n",
      " Mean: 17.613597246127366\t STD: 34.64023986448088\n"
     ]
    }
   ],
   "source": [
    "import pandas as pd\n",
    "import numpy as np\n",
    "import json\n",
    "\n",
    "path = \"../yelp_dataset\"\n",
    "\n",
    "df_business = pd.read_json(path+'/business.json', lines=True)\n",
    "review_counts_IL = df_business[df_business['state'] == 'IL']['review_count'].to_numpy()\n",
    "print(f'IL:\\n Mean: {np.mean(review_counts_IL)}\\t STD: {np.std(review_counts_IL)}')\n",
    "review_counts_SC = df_business[df_business['state'] == 'SC']['review_count'].to_numpy()\n",
    "print(f'SC:\\n Mean: {np.mean(review_counts_SC)}\\t STD: {np.std(review_counts_SC)}')\n",
    "\n",
    "# WHAT TEST TO DO?"
   ]
  },
  {
   "cell_type": "markdown",
   "metadata": {},
   "source": [
    "# Q3"
   ]
  },
  {
   "cell_type": "code",
   "execution_count": 108,
   "metadata": {},
   "outputs": [
    {
     "name": "stdout",
     "output_type": "stream",
     "text": [
      "-13.358685996719954\n",
      "2.2765973643715597e-39\n",
      "-1.5090689818207401\n",
      "0.1314223880540059\n"
     ]
    }
   ],
   "source": [
    "import pandas as pd\n",
    "import numpy as np\n",
    "import json\n",
    "import scipy.stats as stats\n",
    "\n",
    "path = \"../yelp_dataset\"\n",
    "\n",
    "df_business = pd.read_json(path+'/business.json', lines=True)\n",
    "\n",
    "IL_counts = df_business[df_business['state']=='IL']['review_count'].to_numpy()\n",
    "AZ_counts = df_business[df_business['state']=='AZ']['review_count'].to_numpy()\n",
    "ON_counts = df_business[df_business['state']=='ON']['review_count'].to_numpy()\n",
    "\n",
    "t_stat1, p_value1 = stats.ttest_ind(IL_counts, AZ_counts, equal_var=False)\n",
    "print(t_stat1)\n",
    "print(p_value1)\n",
    "\n",
    "t_stat2, p_value2 = stats.ttest_ind(IL_counts, ON_counts, equal_var=False)\n",
    "print(t_stat2)\n",
    "print(p_value2)\n",
    "\n"
   ]
  },
  {
   "cell_type": "markdown",
   "metadata": {},
   "source": [
    "# Q4"
   ]
  },
  {
   "cell_type": "code",
   "execution_count": 21,
   "metadata": {
    "scrolled": true
   },
   "outputs": [
    {
     "name": "stdout",
     "output_type": "stream",
     "text": [
      "A 2x2 contingency table with counts:\n",
      "[[ 25476.   8608.]\n",
      " [111536.  46989.]]\n",
      "262.6182151861173\n",
      "4.611248549446881e-59\n"
     ]
    }
   ],
   "source": [
    "import pandas as pd\n",
    "import numpy as np\n",
    "import json\n",
    "import scipy.stats as stats\n",
    "import statsmodels.api as sm\n",
    "\n",
    "path = \"../yelp_dataset\"\n",
    "\n",
    "df_business = pd.read_json(path+'/business.json', lines=True)\n",
    "\n",
    "is_open = df_business['is_open'].to_numpy()\n",
    "review_count = np.where(df_business['review_count'].to_numpy() > 20, 1, 0)\n",
    "\n",
    "data = np.concatenate((np.reshape(is_open, (-1,1)), np.reshape(review_count, (-1,1))), axis=1)\n",
    "contingency_table = sm.stats.Table.from_data(data)\n",
    "\n",
    "t_stat, p_value, _, _ = stats.chi2_contingency(contingency_table.table_orig)\n",
    "print(t_stat)\n",
    "print(p_value)"
   ]
  },
  {
   "cell_type": "code",
   "execution_count": null,
   "metadata": {},
   "outputs": [],
   "source": []
  }
 ],
 "metadata": {
  "kernelspec": {
   "display_name": "Python 3",
   "language": "python",
   "name": "python3"
  },
  "language_info": {
   "codemirror_mode": {
    "name": "ipython",
    "version": 3
   },
   "file_extension": ".py",
   "mimetype": "text/x-python",
   "name": "python",
   "nbconvert_exporter": "python",
   "pygments_lexer": "ipython3",
   "version": "3.7.4"
  }
 },
 "nbformat": 4,
 "nbformat_minor": 2
}
