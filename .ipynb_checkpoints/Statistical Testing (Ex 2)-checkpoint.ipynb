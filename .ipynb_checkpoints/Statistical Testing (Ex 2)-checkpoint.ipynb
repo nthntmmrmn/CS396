{
 "cells": [
  {
   "cell_type": "markdown",
   "metadata": {},
   "source": [
    "# Q1"
   ]
  },
  {
   "cell_type": "code",
   "execution_count": 11,
   "metadata": {},
   "outputs": [
    {
     "ename": "SyntaxError",
     "evalue": "invalid syntax (<ipython-input-11-a66ee0a90585>, line 9)",
     "output_type": "error",
     "traceback": [
      "\u001b[0;36m  File \u001b[0;32m\"<ipython-input-11-a66ee0a90585>\"\u001b[0;36m, line \u001b[0;32m9\u001b[0m\n\u001b[0;31m    df_business = pd.read_json(path+'/business.json', lines=True)                                                                    30))\u001b[0m\n\u001b[0m                                                                                                                                      ^\u001b[0m\n\u001b[0;31mSyntaxError\u001b[0m\u001b[0;31m:\u001b[0m invalid syntax\n"
     ]
    }
   ],
   "source": [
    "import pandas as pd\n",
    "import numpy as np\n",
    "import json, math, powerlaw\n",
    "import matplotlib.pyplot as plt\n",
    "\n",
    "\n",
    "path = \"../yelp_dataset\"\n",
    "\n",
    "df_business = pd.read_json(path+'/business.json', lines=True)\n",
    "\n",
    "rc = df_business['review_count'].to_numpy()\n",
    "counts, bins = np.histogram(rc, bins=100)\n",
    "bins = bins[1:]\n",
    "counts2 = counts[::-1]\n",
    "counts2 = np.cumsum(counts2)\n",
    "counts2 = counts2[::-1]\n",
    "\n",
    "plt.figure()\n",
    "plt.plot(bins, counts2)\n",
    "plt.loglog(bins, counts2, 'x')\n",
    "plt.show()\n",
    "\n",
    "results = powerlaw.Fit(rc)\n",
    "print(f'Alpha: {results.power_law.alpha}')\n",
    "\n"
   ]
  },
  {
   "cell_type": "markdown",
   "metadata": {},
   "source": [
    "The data seems to follow a power-law distribution."
   ]
  },
  {
   "cell_type": "markdown",
   "metadata": {},
   "source": [
    "# Q2"
   ]
  },
  {
   "cell_type": "code",
   "execution_count": 3,
   "metadata": {},
   "outputs": [
    {
     "name": "stdout",
     "output_type": "stream",
     "text": [
      "t-stat: 0.07573773354286711 \t p-value: 0.00045265484665102385\n"
     ]
    }
   ],
   "source": [
    "import pandas as pd\n",
    "import numpy as np\n",
    "import json\n",
    "import scipy.stats as stats\n",
    "\n",
    "path = \"../yelp_dataset\"\n",
    "\n",
    "df_business = pd.read_json(path+'/business.json', lines=True)\n",
    "review_counts_IL = df_business[df_business['state'] == 'IL']['review_count'].to_numpy()\n",
    "review_counts_SC = df_business[df_business['state'] == 'SC']['review_count'].to_numpy()\n",
    "\n",
    "# Kolmogorov-Smirnov\n",
    "\n",
    "t_stat, p_value = stats.ks_2samp(review_counts_IL, review_counts_SC)\n",
    "print(f't-stat: {t_stat} \\t p-value: {p_value}')"
   ]
  },
  {
   "cell_type": "markdown",
   "metadata": {},
   "source": [
    "To find if the distributions are the same, we made an array of the review_counts of each state, respectively, then used SciPy's built in Kolmogorov-Smirnov test function to calculate a t-statistic and p-value. Because the p-value is less than 0.05, we reject the null hypothesis and conclude that the distributions are NOT the same."
   ]
  },
  {
   "cell_type": "markdown",
   "metadata": {},
   "source": [
    "# Q3"
   ]
  },
  {
   "cell_type": "code",
   "execution_count": 7,
   "metadata": {},
   "outputs": [
    {
     "name": "stdout",
     "output_type": "stream",
     "text": [
      "Part 1 p-value: 2.2765973643715597e-39\n",
      "\n",
      "Part 1 p-value: 0.1314223880540059\n",
      "\n"
     ]
    }
   ],
   "source": [
    "import pandas as pd\n",
    "import numpy as np\n",
    "import json\n",
    "import scipy.stats as stats\n",
    "\n",
    "path = \"../yelp_dataset\"\n",
    "\n",
    "df_business = pd.read_json(path+'/business.json', lines=True)\n",
    "\n",
    "IL_counts = df_business[df_business['state']=='IL']['review_count'].to_numpy()\n",
    "AZ_counts = df_business[df_business['state']=='AZ']['review_count'].to_numpy()\n",
    "ON_counts = df_business[df_business['state']=='ON']['review_count'].to_numpy()\n",
    "\n",
    "t_stat1, p_value1 = stats.ttest_ind(IL_counts, AZ_counts, equal_var=False)\n",
    "# print(t_stat1)\n",
    "print(f'Part 1 p-value: {p_value1}\\n')\n",
    "\n",
    "t_stat2, p_value2 = stats.ttest_ind(IL_counts, ON_counts, equal_var=False)\n",
    "# print(t_stat2)\n",
    "print(f'Part 1 p-value: {p_value2}\\n')\n",
    "\n"
   ]
  },
  {
   "cell_type": "markdown",
   "metadata": {},
   "source": [
    "We used an indendent two-sample t-test to find if the distributions had the same mean.\n",
    "\n",
    "For 1), our p-value was very small (< 0.01), so we reject the null hypothesis and conclude that the distribution means are NOT the same.\n",
    "\n",
    "For 2), our p-value was 0.131 > 0.05, so we fail to reject the null hypothesis, providing evidence that the distribution means are in fact the same."
   ]
  },
  {
   "cell_type": "markdown",
   "metadata": {},
   "source": [
    "# Q4"
   ]
  },
  {
   "cell_type": "code",
   "execution_count": 8,
   "metadata": {
    "scrolled": true
   },
   "outputs": [
    {
     "name": "stdout",
     "output_type": "stream",
     "text": [
      "Part 1 p-value: 4.611248549446881e-59\n",
      "\n",
      "Part 2 p-value: 0.026472344905112764\n",
      "\n"
     ]
    }
   ],
   "source": [
    "import pandas as pd\n",
    "import numpy as np\n",
    "import json\n",
    "import scipy.stats as stats\n",
    "import statsmodels.api as sm\n",
    "\n",
    "path = \"../yelp_dataset\"\n",
    "\n",
    "df_business = pd.read_json(path+'/business.json', lines=True)\n",
    "\n",
    "is_open = df_business['is_open'].to_numpy()\n",
    "review_count = np.where(df_business['review_count'].to_numpy() > 20, 1, 0)\n",
    "\n",
    "data = np.concatenate((np.reshape(is_open, (-1,1)), np.reshape(review_count, (-1,1))), axis=1)\n",
    "contingency_table = sm.stats.Table.from_data(data)\n",
    "\n",
    "t_stat, p_value, _, _ = stats.chi2_contingency(contingency_table.table_orig)\n",
    "print(f'Part 1 p-value: {p_value}\\n')\n",
    "      \n",
    "stars = np.where(df_business['stars'].to_numpy() > 2.5, 1, 0)\n",
    "data2 = np.concatenate((np.reshape(is_open, (-1,1)), np.reshape(stars, (-1,1))), axis=1)\n",
    "contingency_table2 = sm.stats.Table.from_data(data2)\n",
    "\n",
    "t_stat2, p_value2, _, _ = stats.chi2_contingency(contingency_table2.table_orig)\n",
    "print(f'Part 2 p-value: {p_value2}\\n')"
   ]
  },
  {
   "cell_type": "markdown",
   "metadata": {},
   "source": [
    "For both parts, we made a contingency table relating the two statistics. We then used SciPy's built-in chi-square independence test to see whether they are independent of one another.\n",
    "\n",
    "For 1), our p-value was very small (< 0.01), so we reject the null hypothesis (that the statistics are independent) and conclude that a business being open or closed and whether a business has more than 20 reviews are NOT independent.\n",
    "\n",
    "For 2), our p-value was 0.026 < 0.05, so we again reject the null hypothesis and conclude that a business being open or closed and whether a business has more than 2.5 stars are NOT indepedent."
   ]
  },
  {
   "cell_type": "markdown",
   "metadata": {},
   "source": [
    "# Q5"
   ]
  },
  {
   "cell_type": "code",
   "execution_count": 9,
   "metadata": {},
   "outputs": [
    {
     "name": "stdout",
     "output_type": "stream",
     "text": [
      "1: Pearson: 0.5506816309257399 \t Spearman: 0.5386287759112771\n",
      "\n",
      "2: Pearson: 0.964712907174548 \t Spearman: 0.7813877781869568\n",
      "\n",
      "3: Pearson: 0.7026543853857049 \t Spearman: 0.5530478606753861\n",
      "\n"
     ]
    }
   ],
   "source": [
    "import pandas as pd\n",
    "import numpy as np\n",
    "import json\n",
    "import scipy.stats as stats\n",
    "\n",
    "path = \"../yelp_dataset\"\n",
    "\n",
    "df_user = pd.read_json(path+'/user.json', lines=True)\n",
    "# reviews and fans\n",
    "reviews = df_user['review_count'].to_numpy()\n",
    "fans = df_user['fans'].to_numpy()\n",
    "r1, _ = stats.pearsonr(reviews, fans)\n",
    "c1, _ = stats.spearmanr(reviews, fans)\n",
    "\n",
    "\n",
    "# useful and funny\n",
    "useful = df_user['useful'].to_numpy()\n",
    "funny = df_user['funny'].to_numpy()\n",
    "r2, _ = stats.pearsonr(useful, funny)\n",
    "c2, _ = stats.spearmanr(useful, funny)\n",
    "\n",
    "# useful and fans\n",
    "r3, _ = stats.pearsonr(useful, fans)\n",
    "c3, _ = stats.spearmanr(useful, fans)\n",
    "\n",
    "print(f'1: Pearson: {r1} \\t Spearman: {c1}\\n')\n",
    "print(f'2: Pearson: {r2} \\t Spearman: {c2}\\n')\n",
    "print(f'3: Pearson: {r3} \\t Spearman: {c3}\\n')"
   ]
  },
  {
   "cell_type": "markdown",
   "metadata": {},
   "source": [
    "1) Reviews and number of fans has a moderately positively correlated relationship according to the Pearson coefficient. The Spearman coefficient shows a moderate positive rank correlation, meaning it can be described moderately well by a monotonic (linear) function. Thus, we can say that having more reviews means you are moderately more likely to have more fans and vice versa.\n",
    "\n",
    "2) The number of 'useful' and 'funny' received has a very highly positively correlated relationship according to the Pearson coefficient. The Spearman coefficient shows a high positive rank correlation, meaning it can be described well by a monotonic (linear) function. Thus, we can say that having more 'useful' means you are very highly likely to have more 'funny' and vice versa.\n",
    "\n",
    "3) The number of 'useful' received and number of fans has a highly correlated relationship according to the Perason coefficient. The Spearman coefficient shows a moderate positive rank correlation, meaning it can be described moderately well by a monotonic (linear) function. Thus, we can say that having more 'useful' means that you are moderately highly likely to have more fans and vice versa."
   ]
  }
 ],
 "metadata": {
  "kernelspec": {
   "display_name": "Python 3",
   "language": "python",
   "name": "python3"
  },
  "language_info": {
   "codemirror_mode": {
    "name": "ipython",
    "version": 3
   },
   "file_extension": ".py",
   "mimetype": "text/x-python",
   "name": "python",
   "nbconvert_exporter": "python",
   "pygments_lexer": "ipython3",
   "version": "3.7.4"
  }
 },
 "nbformat": 4,
 "nbformat_minor": 2
}
